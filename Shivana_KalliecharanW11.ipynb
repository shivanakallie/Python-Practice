{
  "nbformat": 4,
  "nbformat_minor": 0,
  "metadata": {
    "colab": {
      "provenance": []
    },
    "kernelspec": {
      "name": "python3",
      "display_name": "Python 3"
    },
    "language_info": {
      "name": "python"
    }
  },
  "cells": [
    {
      "cell_type": "markdown",
      "source": [
        "Part 1: String Operations"
      ],
      "metadata": {
        "id": "PWkBPKE3eVSj"
      }
    },
    {
      "cell_type": "code",
      "execution_count": 16,
      "metadata": {
        "colab": {
          "base_uri": "https://localhost:8080/"
        },
        "id": "LALoi4pQc-jo",
        "outputId": "d7012267-546d-49ec-a049-bb8b5899b221"
      },
      "outputs": [
        {
          "output_type": "stream",
          "name": "stdout",
          "text": [
            "Length of greeting: 13\n",
            "Hello, Python!\n",
            "programming\n",
            "Python fun!\n",
            "D\n",
            ".\n",
            "DATA ANALYTICS IS TRANSFORMING INDUSTRIES.\n",
            "5\n",
            "Data analytics is revolutionizing industries.\n",
            "Python is fun \n",
            ".gnidrawer dna nuf si nohtyP gninraeL\n",
            "True\n"
          ]
        }
      ],
      "source": [
        "'''1. Creating and modifying strings'''\n",
        "# Define string\n",
        "greeting = \"Hello, world!\"\n",
        "# Print the length of the string\n",
        "print(\"Length of greeting:\", len(greeting))\n",
        "# Replace \"world\" with \"Python\"\n",
        "greeting_modified = greeting.replace(\"world\", \"Python\")\n",
        "print(greeting_modified)\n",
        "\n",
        "'''2. Extracting and Combining Parts of a String'''\n",
        "# define quote\n",
        "quote = \"Python programming is fun!\"\n",
        "# extract and print the word 'programming'\n",
        "words = quote.split()\n",
        "programming = words[1]\n",
        "print(programming)\n",
        "# Combine Python and fun to make a new phrase\n",
        "new_phrase = words[0] + \" \" + words[3]\n",
        "print(new_phrase)\n",
        "\n",
        "'''3. Basic String Operations'''\n",
        "# Create string variable\n",
        "sentence = \"Data analytics is transforming industries.\"\n",
        "# Extract the first and last characters of the string\n",
        "first_char = sentence[0]\n",
        "last_char = sentence[-1]\n",
        "print(first_char)\n",
        "print(last_char)\n",
        "# Convert the entire string to uppercase\n",
        "sentence_upper = sentence.upper()\n",
        "print(sentence_upper)\n",
        "# Find the position of the word \"analytics\" in the string\n",
        "position = sentence.find(\"analytics\")\n",
        "print(position)\n",
        "# Replace \"transforming\" with \"revolutionizing\"\n",
        "sentence_modified = sentence.replace(\"transforming\", \"revolutionizing\")\n",
        "print(sentence_modified)\n",
        "\n",
        "\n",
        "''' 4. String Slicing and Indexing '''\n",
        "phrase = \"Learning Python is fun and rewarding.\"\n",
        "# Extract and print the substring \"Python is fun\"\n",
        "substring = phrase[9:23]\n",
        "print(substring)\n",
        "# Reverse the entire string and print the result\n",
        "reversed_phrase = phrase[::-1]\n",
        "print(reversed_phrase)\n",
        "# Check if the word \"rewarding\" is in the phrase and print the result\n",
        "contains_rewarding = \"rewarding\" in phrase\n",
        "print(contains_rewarding)\n",
        "\n",
        "\n",
        "\n",
        "\n"
      ]
    },
    {
      "cell_type": "markdown",
      "source": [
        "Part 2: List Operations"
      ],
      "metadata": {
        "id": "ItMF9br_eRSz"
      }
    },
    {
      "cell_type": "code",
      "source": [
        "''' 1. Creating and Modifying Lists'''\n",
        "fruits = [\"apple\", \"banana\", \"cherry\"]\n",
        "# Add the fruit \"orange\" to the end of the list\n",
        "fruits.append(\"orange\")\n",
        "# Remove \"banana\" from the list\n",
        "fruits.remove(\"banana\")\n",
        "# Print the final list\n",
        "print(fruits)\n",
        "\n",
        "''' 2. Assessing Elements in a List'''\n",
        "\n",
        "numbers = [10, 20, 30, 40, 50]\n",
        "# Print the first and last elements of the list\n",
        "first_element = numbers[0]\n",
        "last_element = numbers[-1]\n",
        "print(first_element)\n",
        "print(last_element)\n",
        "# Create a new list containing only the second and third elements\n",
        "new_list = numbers[1:3]\n",
        "print(new_list)\n",
        "\n",
        "''' 3. Sum of List Elelments'''\n",
        "values = [5, 10, 15, 20]\n",
        "# Calculate the sum of all elements in the list\n",
        "sum_values = sum(values)\n",
        "print(sum_values)\n",
        "\n",
        "''' 4. Counting Words in a Sentence '''\n",
        "def count_words(sentence):\n",
        "    words = sentence.split()\n",
        "    return len(words)\n",
        "  #Test the function\n",
        "sentence = input(\"Enter sentence here:\")\n",
        "print(count_words(sentence))\n",
        "\n",
        "'''5. Basic List Operations'''\n",
        "#create list with integers from 1 to 10\n",
        "numbers = list(range(1, 11))\n",
        "# Append the number 11 to the list\n",
        "numbers.append(11)\n",
        "# Insert the number 0 at the beginning of the list\n",
        "numbers.insert(0, 0)\n",
        "# Remove the number 5 from the list\n",
        "numbers.remove(5)\n",
        "# Print the sum of all elements in the list\n",
        "sum_numbers = sum(numbers)\n",
        "print(sum_numbers)\n",
        "\n",
        "'''6. List Slicing and Indexing'''\n",
        "colors = [\"red\", \"blue\", \"green\", \"yellow\", \"purple\", \"orange\"]\n",
        "# Extract the first three colors\n",
        "first_three_colors = colors[:3]\n",
        "print(first_three_colors)\n",
        "# Extract the last two colors\n",
        "last_two_colors = colors[-2:]\n",
        "print(last_two_colors)\n",
        "# Reverse the list and print the result\n",
        "reversed_colors = colors[::-1]\n",
        "print(reversed_colors)\n",
        "\n"
      ],
      "metadata": {
        "colab": {
          "base_uri": "https://localhost:8080/"
        },
        "id": "LGCf4_RJeT9f",
        "outputId": "178edeb2-b142-4403-9b67-ffa6738269d4"
      },
      "execution_count": 20,
      "outputs": [
        {
          "output_type": "stream",
          "name": "stdout",
          "text": [
            "['apple', 'cherry', 'orange']\n",
            "10\n",
            "50\n",
            "[20, 30]\n",
            "50\n",
            "Enter sentence here:python is fun to learn \n",
            "5\n",
            "61\n",
            "['red', 'blue', 'green']\n",
            "['purple', 'orange']\n",
            "['orange', 'purple', 'yellow', 'green', 'blue', 'red']\n"
          ]
        }
      ]
    },
    {
      "cell_type": "markdown",
      "source": [
        "Part 3: Tuple Operations"
      ],
      "metadata": {
        "id": "6MWe6EFzfFPO"
      }
    },
    {
      "cell_type": "code",
      "source": [
        "''' 1. Tuple Operations '''\n",
        "\n",
        "coordinates = (5, 10, 15)\n",
        "\n",
        "# Print the first and last elements of the tuple\n",
        "first_element_tuple = coordinates[0]\n",
        "last_element_tuple = coordinates[-1]\n",
        "print(first_element_tuple)\n",
        "print(last_element_tuple)\n",
        "\n",
        "# Create a new tuple by adding the number 20 to the end of the existing tuple\n",
        "new_coordinates = coordinates + (20,)\n",
        "print(new_coordinates)"
      ],
      "metadata": {
        "colab": {
          "base_uri": "https://localhost:8080/"
        },
        "id": "m_bYFEHBfIwS",
        "outputId": "48699d91-6065-481d-f01b-be500fcef246"
      },
      "execution_count": 21,
      "outputs": [
        {
          "output_type": "stream",
          "name": "stdout",
          "text": [
            "5\n",
            "15\n",
            "(5, 10, 15, 20)\n"
          ]
        }
      ]
    },
    {
      "cell_type": "markdown",
      "source": [
        "Part 4: Dictionary Operations"
      ],
      "metadata": {
        "id": "k7wVofrzfRSz"
      }
    },
    {
      "cell_type": "code",
      "source": [
        "''' 1. Dictionary operations'''\n",
        "\n",
        "student_scores = {\"Alice\": 85, \"Bob\": 90, \"Charlie\": 78}\n",
        "\n",
        "# Add a new entry for \"David\" with a score of 92\n",
        "student_scores[\"David\"] = 92\n",
        "\n",
        "# Update \"Alice\"'s score to 88\n",
        "student_scores[\"Alice\"] = 88\n",
        "\n",
        "# Print the names of all students (keys) in the dictionary\n",
        "students = student_scores.keys()\n",
        "print(\"Student names:\", list(students))"
      ],
      "metadata": {
        "colab": {
          "base_uri": "https://localhost:8080/"
        },
        "id": "GAEtDwbufQAT",
        "outputId": "e6eb5102-c163-4755-a725-cda85eeceb5d"
      },
      "execution_count": 22,
      "outputs": [
        {
          "output_type": "stream",
          "name": "stdout",
          "text": [
            "Student names: ['Alice', 'Bob', 'Charlie', 'David']\n"
          ]
        }
      ]
    }
  ]
}