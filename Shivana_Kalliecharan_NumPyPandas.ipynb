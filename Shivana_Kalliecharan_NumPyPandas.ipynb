{
  "cells": [
    {
      "cell_type": "markdown",
      "source": [],
      "metadata": {
        "id": "30lYiSimiswD"
      },
      "id": "30lYiSimiswD"
    },
    {
      "cell_type": "markdown",
      "id": "796d7c84-9a5e-4a23-af26-5b7a3eb7e4a5",
      "metadata": {
        "id": "796d7c84-9a5e-4a23-af26-5b7a3eb7e4a5"
      },
      "source": [
        "# Module 5 - pandas and NumPy"
      ]
    },
    {
      "cell_type": "markdown",
      "id": "808f5168-bf9c-4812-a4ac-9b0220092607",
      "metadata": {
        "id": "808f5168-bf9c-4812-a4ac-9b0220092607"
      },
      "source": [
        "In this homework, you will work with a dataset containing information about earthquakes around the world. The dataset includes details such as time, location, depth, and magnitude of each earthquake. Your tasks will involve loading the data into a pandas DataFrame and performing various operations.\n",
        "\n",
        "The dataset has the following columns:\n",
        "\n",
        "* time: The timestamp of the earthquake.\n",
        "* latitude: Latitude of the earthquake's location.\n",
        "* longitude: Longitude of the earthquake's location.\n",
        "* depth: Depth of the earthquake in kilometers.\n",
        "* mag: Magnitude of the earthquake.\n",
        "* magType: Type of magnitude.\n",
        "* nst: Number of seismic stations reporting the event.\n",
        "* gap: The largest azimuthal gap between stations (in degrees).\n",
        "* dmin: Minimum distance to the earthquake (in degrees).\n",
        "* rms: Root mean square of the amplitude.\n",
        "* net: Network that provided the data.\n",
        "* id: Event ID.\n",
        "* updated: Timestamp of the last update.\n",
        "* place: Description of the earthquake's location.\n",
        "* type: Type of seismic event (e.g., earthquake).\n",
        "* horizontalError: Horizontal error of the location.\n",
        "* depthError: Error in depth.\n",
        "* magError: Error in magnitude.\n",
        "* magNst: Number of stations that reported the magnitude.\n",
        "* status: Review status of the event.\n",
        "* locationSource: Source of the location data.\n",
        "* magSource: Source of the magnitude data.\n",
        "\n",
        "You will need to do the following:\n",
        "\n",
        "1. Load the Data:\n",
        "    - Load the dataset into a pandas DataFrame.\n",
        "1. Basic Exploration:\n",
        "    - Display the first 5 rows of the DataFrame.\n",
        "    - Show the summary statistics of the numerical columns.\n",
        "    - Check for any missing values in the dataset.\n",
        "\n",
        "1. Filtering and Selection:\n",
        "    - Create a new DataFrame that contains only the earthquakes with a magnitude greater than 4.0.\n",
        "    - Select and display the rows where the depth is less than 10 km.\n",
        "\n",
        "1. Aggregation and Grouping:\n",
        "     - Calculate the average magnitude of earthquakes for each type (magType).\n",
        "     - Group the data by place and calculate the maximum depth for each location."
      ]
    },
    {
      "cell_type": "code",
      "execution_count": 6,
      "id": "be6080b8-c7a7-4f9b-9051-b34c4c381887",
      "metadata": {
        "id": "be6080b8-c7a7-4f9b-9051-b34c4c381887"
      },
      "outputs": [],
      "source": [
        "# Answer #1\n",
        "#import pandas and csv\n",
        "import pandas as pd\n",
        "df = pd.read_csv('earthquakes_2023_global (1).csv')\n"
      ]
    },
    {
      "cell_type": "code",
      "execution_count": 16,
      "id": "cff77d65-4ebd-4930-9204-bcd64fb24ba4",
      "metadata": {
        "colab": {
          "base_uri": "https://localhost:8080/",
          "height": 774
        },
        "id": "cff77d65-4ebd-4930-9204-bcd64fb24ba4",
        "outputId": "6da68d2c-ec24-49fb-e002-99083e56be5a"
      },
      "outputs": [
        {
          "output_type": "execute_result",
          "data": {
            "text/plain": [
              "time                  0\n",
              "latitude              0\n",
              "longitude             0\n",
              "depth                 0\n",
              "mag                   0\n",
              "magType               0\n",
              "nst                1415\n",
              "gap                1417\n",
              "dmin               1866\n",
              "rms                   0\n",
              "net                   0\n",
              "id                    0\n",
              "updated               0\n",
              "place              1608\n",
              "type                  0\n",
              "horizontalError    1549\n",
              "depthError            0\n",
              "magError           1672\n",
              "magNst             1577\n",
              "status                0\n",
              "locationSource        0\n",
              "magSource             0\n",
              "dtype: int64"
            ],
            "text/html": [
              "<div>\n",
              "<style scoped>\n",
              "    .dataframe tbody tr th:only-of-type {\n",
              "        vertical-align: middle;\n",
              "    }\n",
              "\n",
              "    .dataframe tbody tr th {\n",
              "        vertical-align: top;\n",
              "    }\n",
              "\n",
              "    .dataframe thead th {\n",
              "        text-align: right;\n",
              "    }\n",
              "</style>\n",
              "<table border=\"1\" class=\"dataframe\">\n",
              "  <thead>\n",
              "    <tr style=\"text-align: right;\">\n",
              "      <th></th>\n",
              "      <th>0</th>\n",
              "    </tr>\n",
              "  </thead>\n",
              "  <tbody>\n",
              "    <tr>\n",
              "      <th>time</th>\n",
              "      <td>0</td>\n",
              "    </tr>\n",
              "    <tr>\n",
              "      <th>latitude</th>\n",
              "      <td>0</td>\n",
              "    </tr>\n",
              "    <tr>\n",
              "      <th>longitude</th>\n",
              "      <td>0</td>\n",
              "    </tr>\n",
              "    <tr>\n",
              "      <th>depth</th>\n",
              "      <td>0</td>\n",
              "    </tr>\n",
              "    <tr>\n",
              "      <th>mag</th>\n",
              "      <td>0</td>\n",
              "    </tr>\n",
              "    <tr>\n",
              "      <th>magType</th>\n",
              "      <td>0</td>\n",
              "    </tr>\n",
              "    <tr>\n",
              "      <th>nst</th>\n",
              "      <td>1415</td>\n",
              "    </tr>\n",
              "    <tr>\n",
              "      <th>gap</th>\n",
              "      <td>1417</td>\n",
              "    </tr>\n",
              "    <tr>\n",
              "      <th>dmin</th>\n",
              "      <td>1866</td>\n",
              "    </tr>\n",
              "    <tr>\n",
              "      <th>rms</th>\n",
              "      <td>0</td>\n",
              "    </tr>\n",
              "    <tr>\n",
              "      <th>net</th>\n",
              "      <td>0</td>\n",
              "    </tr>\n",
              "    <tr>\n",
              "      <th>id</th>\n",
              "      <td>0</td>\n",
              "    </tr>\n",
              "    <tr>\n",
              "      <th>updated</th>\n",
              "      <td>0</td>\n",
              "    </tr>\n",
              "    <tr>\n",
              "      <th>place</th>\n",
              "      <td>1608</td>\n",
              "    </tr>\n",
              "    <tr>\n",
              "      <th>type</th>\n",
              "      <td>0</td>\n",
              "    </tr>\n",
              "    <tr>\n",
              "      <th>horizontalError</th>\n",
              "      <td>1549</td>\n",
              "    </tr>\n",
              "    <tr>\n",
              "      <th>depthError</th>\n",
              "      <td>0</td>\n",
              "    </tr>\n",
              "    <tr>\n",
              "      <th>magError</th>\n",
              "      <td>1672</td>\n",
              "    </tr>\n",
              "    <tr>\n",
              "      <th>magNst</th>\n",
              "      <td>1577</td>\n",
              "    </tr>\n",
              "    <tr>\n",
              "      <th>status</th>\n",
              "      <td>0</td>\n",
              "    </tr>\n",
              "    <tr>\n",
              "      <th>locationSource</th>\n",
              "      <td>0</td>\n",
              "    </tr>\n",
              "    <tr>\n",
              "      <th>magSource</th>\n",
              "      <td>0</td>\n",
              "    </tr>\n",
              "  </tbody>\n",
              "</table>\n",
              "</div><br><label><b>dtype:</b> int64</label>"
            ]
          },
          "metadata": {},
          "execution_count": 16
        }
      ],
      "source": [
        "# Answer #2\n",
        "#show first 5 rows of dataset\n",
        "df.head(5)\n",
        "\n",
        "#show summary statistics of numerical columns\n",
        "df.describe()\n",
        "\n",
        "#check missing dataset values\n",
        "df.isnull().sum()\n"
      ]
    },
    {
      "cell_type": "code",
      "execution_count": 19,
      "id": "5c08fa20-ba1d-49ca-ada8-bb25eb1e9580",
      "metadata": {
        "id": "5c08fa20-ba1d-49ca-ada8-bb25eb1e9580"
      },
      "outputs": [],
      "source": [
        "# Answer #3\n",
        "#Create a new DataFrame that contains only the earthquakes with a magnitude greater than 4.0.\n",
        "df_magnitude = df[df['mag'] > 4.0]\n",
        "\n",
        "#Select and display the rows where the depth is less than 10 km.\n",
        "df_depth = df[df['depth'] < 10]\n"
      ]
    },
    {
      "cell_type": "code",
      "execution_count": 17,
      "id": "80495c4f-eb4e-41f0-946d-d326de895f83",
      "metadata": {
        "id": "80495c4f-eb4e-41f0-946d-d326de895f83"
      },
      "outputs": [],
      "source": [
        "# Answer #4\n",
        "#Calculate the average magnitude of earthquakes for each type (magType)\n",
        "average_magnitude = df.groupby('magType')['mag'].mean()\n",
        "\n",
        "#Group the data by place and calculate the maximum depth for each location\n",
        "max_depth_by_place = df.groupby('place')['depth'].max()"
      ]
    }
  ],
  "metadata": {
    "kernelspec": {
      "display_name": "Python 3 (ipykernel)",
      "language": "python",
      "name": "python3"
    },
    "language_info": {
      "codemirror_mode": {
        "name": "ipython",
        "version": 3
      },
      "file_extension": ".py",
      "mimetype": "text/x-python",
      "name": "python",
      "nbconvert_exporter": "python",
      "pygments_lexer": "ipython3",
      "version": "3.11.5"
    },
    "colab": {
      "provenance": []
    }
  },
  "nbformat": 4,
  "nbformat_minor": 5
}